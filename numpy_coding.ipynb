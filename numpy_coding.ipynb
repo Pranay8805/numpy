{
  "nbformat": 4,
  "nbformat_minor": 0,
  "metadata": {
    "colab": {
      "provenance": [],
      "collapsed_sections": []
    },
    "kernelspec": {
      "name": "python3",
      "display_name": "Python 3"
    },
    "language_info": {
      "name": "python"
    }
  },
  "cells": [
    {
      "cell_type": "code",
      "execution_count": 5,
      "metadata": {
        "colab": {
          "base_uri": "https://localhost:8080/"
        },
        "id": "bio9TnVGXQfe",
        "outputId": "ad1a31d7-c0af-46d1-826f-16781fb2705a"
      },
      "outputs": [
        {
          "output_type": "stream",
          "name": "stdout",
          "text": [
            "[0 0 0 0 1 0 0 0 0 0]\n"
          ]
        }
      ],
      "source": [
        "#1.Create a null vector of size 10 but the fifth value which is 1.\n",
        "import numpy as np\n",
        "arr = np.zeros(10,dtype = int)\n",
        "arr[4] = 1\n",
        "print(arr)"
      ]
    },
    {
      "cell_type": "code",
      "source": [
        "#2.Create a vector with values ranging from 10 to 49.\n",
        "import numpy as np\n",
        "arr = np.arange(10,49)\n",
        "print(arr)"
      ],
      "metadata": {
        "colab": {
          "base_uri": "https://localhost:8080/"
        },
        "id": "LPkXhzYCX7vJ",
        "outputId": "01c649bb-97d2-44cd-dd8a-e04b82eb68b8"
      },
      "execution_count": 6,
      "outputs": [
        {
          "output_type": "stream",
          "name": "stdout",
          "text": [
            "[10 11 12 13 14 15 16 17 18 19 20 21 22 23 24 25 26 27 28 29 30 31 32 33\n",
            " 34 35 36 37 38 39 40 41 42 43 44 45 46 47 48]\n"
          ]
        }
      ]
    },
    {
      "cell_type": "code",
      "source": [
        "#3.Create a 3x3 matrix with values ranging from 0 to 8\n",
        "import numpy as np\n",
        "arr = np.arange(0,9).reshape(3,3)\n",
        "print(arr)"
      ],
      "metadata": {
        "id": "dfQw7f3cYLTb"
      },
      "execution_count": null,
      "outputs": []
    },
    {
      "cell_type": "code",
      "source": [
        "#4.Find indices of non-zero elements from [1,2,0,0,4,0]\n",
        "import numpy as np\n",
        "arr = np.nonzero([1,2,0,0,4,0])\n",
        "print(arr)"
      ],
      "metadata": {
        "colab": {
          "base_uri": "https://localhost:8080/"
        },
        "id": "mvDw1b6kYTom",
        "outputId": "5128666d-1680-410c-cb2c-b412c36f25c0"
      },
      "execution_count": 7,
      "outputs": [
        {
          "output_type": "stream",
          "name": "stdout",
          "text": [
            "(array([0, 1, 4]),)\n"
          ]
        }
      ]
    },
    {
      "cell_type": "code",
      "source": [
        "#5.Create a 10x10 array with random values and find the minimum and maximum values.\n",
        "arr = np.nonzero([1,2,0,0,4,0])\n",
        "print(arr)\n",
        "import numpy as np\n",
        "arr = np.random.randint(100,size =(10,10))\n",
        "print(arr)\n",
        "print(np.min(arr))\n",
        "print(np.max(arr))"
      ],
      "metadata": {
        "colab": {
          "base_uri": "https://localhost:8080/"
        },
        "id": "mmwkP37TYwiN",
        "outputId": "add2a3e0-ece5-4ad1-d14a-388a397118d3"
      },
      "execution_count": 8,
      "outputs": [
        {
          "output_type": "stream",
          "name": "stdout",
          "text": [
            "(array([0, 1, 4]),)\n",
            "[[ 5 54 45 88 49 80 60 82 53 24]\n",
            " [79 18 88 71 14 38 75 98 83 60]\n",
            " [39 99 92 70 31 78 33 94 17 59]\n",
            " [20 33 83  4  5 96  6 43 84 79]\n",
            " [13 69 11 95 38 16  8 90 57 91]\n",
            " [78 65 96 64  8 30 72 60 59 92]\n",
            " [45 13 71 92 31 36 79 70 92 70]\n",
            " [91 70 70 99 12  0 45 41  2 56]\n",
            " [37 47 58 17 38 59 81 67 42 21]\n",
            " [29 38 53 16  1 13  9 34 60 11]]\n",
            "0\n",
            "99\n"
          ]
        }
      ]
    },
    {
      "cell_type": "code",
      "source": [
        "#Create a random vector of size 30 and find the mean value.\n",
        "import numpy as np\n",
        "arr = np.random.random(30)\n",
        "print(arr)\n",
        "print(np.mean(arr))"
      ],
      "metadata": {
        "colab": {
          "base_uri": "https://localhost:8080/"
        },
        "id": "Ny5x7P97ZGdE",
        "outputId": "6a67fa25-6d20-40a9-be34-d870b35e65a6"
      },
      "execution_count": 9,
      "outputs": [
        {
          "output_type": "stream",
          "name": "stdout",
          "text": [
            "[0.41174289 0.63581436 0.76283433 0.67337108 0.10462706 0.75979732\n",
            " 0.62638359 0.03921185 0.66276846 0.25308703 0.74605052 0.51415812\n",
            " 0.69449885 0.32612994 0.63298196 0.1680371  0.12945685 0.3351373\n",
            " 0.69809234 0.37621107 0.84480312 0.35798562 0.57997496 0.51394639\n",
            " 0.02264389 0.1558978  0.40205599 0.93887633 0.82778299 0.69334997]\n",
            "0.49625696849382606\n"
          ]
        }
      ]
    }
  ]
}